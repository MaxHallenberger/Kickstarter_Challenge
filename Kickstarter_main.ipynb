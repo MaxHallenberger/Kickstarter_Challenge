{
 "cells": [
  {
   "cell_type": "markdown",
   "metadata": {},
   "source": [
    "![Kickstarer](./images/kickstarter.png)"
   ]
  },
  {
   "cell_type": "markdown",
   "metadata": {},
   "source": [
    "---\n",
    "Imports\n",
    "---"
   ]
  },
  {
   "cell_type": "code",
   "execution_count": null,
   "metadata": {},
   "outputs": [],
   "source": [
    "import glob\n",
    "import pandas as pd\n",
    "import numpy as np\n",
    "import seaborn as sns\n",
    "import matplotlib.pyplot as plt\n",
    "import re\n",
    "from sklearn.preprocessing import MinMaxScaler\n",
    "\n",
    "# New imports, add to start later\n",
    "from sklearn.linear_model import LogisticRegression\n",
    "from sklearn.tree import DecisionTreeClassifier\n",
    "from sklearn.ensemble import RandomForestClassifier\n",
    "from sklearn.ensemble import RandomForestClassifier, AdaBoostClassifier, GradientBoostingClassifier, VotingClassifier\n",
    "from sklearn.neighbors import KNeighborsClassifier\n",
    "from sklearn.svm import SVC\n",
    "from sklearn.model_selection import StratifiedKFold, cross_val_score, GridSearchCV\n",
    "from xgboost import XGBClassifier\n",
    "from tqdm import tqdm\n",
    "import time\n",
    "from sklearn.experimental import enable_halving_search_cv\n",
    "from sklearn.model_selection import HalvingGridSearchCV\n",
    "import json\n",
    "from sklearn.dummy import DummyClassifier\n",
    "from sklearn.metrics import precision_score, recall_score, f1_score, confusion_matrix\n",
    "from sklearn.model_selection import train_test_split\n",
    "\n",
    "import warnings\n",
    "warnings.filterwarnings('ignore')\n",
    "\n",
    "RSEED = 42069"
   ]
  },
  {
   "cell_type": "code",
   "execution_count": null,
   "metadata": {},
   "outputs": [],
   "source": [
    "# Import the .csv files and concat them into one dataframe\n",
    "original_dataframe = pd.concat(map(pd.read_csv, glob.glob('data/data-2/*.csv')))\n",
    "# Reset the indices\n",
    "original_dataframe.reset_index(drop=True, inplace=True)"
   ]
  },
  {
   "cell_type": "code",
   "execution_count": null,
   "metadata": {},
   "outputs": [],
   "source": [
    "# Set a working dataframe, so that we don't have to wait 10s it to import again if we want to start fresh\n",
    "df = original_dataframe"
   ]
  },
  {
   "cell_type": "markdown",
   "metadata": {},
   "source": [
    "---\n",
    "EDA - Part 1\n",
    "---"
   ]
  },
  {
   "cell_type": "code",
   "execution_count": null,
   "metadata": {},
   "outputs": [],
   "source": [
    "df.info()"
   ]
  },
  {
   "cell_type": "code",
   "execution_count": null,
   "metadata": {},
   "outputs": [],
   "source": [
    "df.isnull().sum()"
   ]
  },
  {
   "cell_type": "code",
   "execution_count": null,
   "metadata": {},
   "outputs": [],
   "source": [
    "# Only a very limited amount of suspended projects (drop), canceled projects will be treated as though they failed\n",
    "df['state'].value_counts()"
   ]
  },
  {
   "cell_type": "code",
   "execution_count": null,
   "metadata": {},
   "outputs": [],
   "source": [
    "# Check for duplicate projects and store them in a table\n",
    "dups = df.groupby(df.id.tolist()).size().reset_index().rename(columns={0:'count'})\n",
    "# Sum the final col of that table, and subtract the number of culprits:\n",
    "dups['count'].sum() - dups.shape[0]"
   ]
  },
  {
   "cell_type": "markdown",
   "metadata": {},
   "source": [
    "---\n",
    "Data Cleaning\n",
    "---"
   ]
  },
  {
   "cell_type": "code",
   "execution_count": null,
   "metadata": {},
   "outputs": [],
   "source": [
    "# Drop features which will not be needed for further analysis\n",
    "dropped_features = ['blurb', 'currency_symbol', 'backers_count', 'is_backing', 'permissions', 'is_starred', 'source_url',\n",
    "                    'slug', 'name', 'static_usd_rate', 'profile', 'friends', 'spotlight', 'is_starrable', 'photo', 'pledged', 'usd_type',\n",
    "                    'fx_rate', 'location', 'creator', 'currency_trailing_code','current_currency', 'created_at', 'urls', 'disable_communication', 'usd_pledged' ]\n",
    "df = df.drop(dropped_features, axis=1)"
   ]
  },
  {
   "cell_type": "code",
   "execution_count": null,
   "metadata": {},
   "outputs": [],
   "source": [
    "# Sort dataframe by 'date_changed_at' so that we will keep the entry that was most recently updated\n",
    "df.sort_values('state_changed_at')\n",
    "# Remove duplicates\n",
    "duplicates = df.duplicated(subset='id', keep='last')\n",
    "df = df[~duplicates]"
   ]
  },
  {
   "cell_type": "markdown",
   "metadata": {},
   "source": [
    "---\n",
    "Feature Engineering\n",
    "---"
   ]
  },
  {
   "cell_type": "code",
   "execution_count": null,
   "metadata": {},
   "outputs": [],
   "source": [
    "# Extract category from category column\n",
    "df['category'] = df['category'].apply(lambda x: json.loads(x)['slug'])\n",
    "df['category'] = df['category'].apply(lambda x: x.split('/',)[0])"
   ]
  },
  {
   "cell_type": "code",
   "execution_count": null,
   "metadata": {},
   "outputs": [],
   "source": [
    "# Generate new column with readable timeformat\n",
    "df['launched_at_new'] = pd.to_datetime(df['launched_at'], unit='s')\n",
    "df['deadline_new'] = pd.to_datetime(df['deadline'], unit='s')\n",
    "df['state_changed_at_new'] = pd.to_datetime(df['state_changed_at'], unit='s')"
   ]
  },
  {
   "cell_type": "code",
   "execution_count": null,
   "metadata": {},
   "outputs": [],
   "source": [
    "# Create new feature 'duration' that displays wheather the project timespan was more or less than 30 days\n",
    "df = df.eval('duration = deadline - launched_at')\n",
    "df['duration'] = ['over' if x > 2592000 else 'under' for x in df['duration']]"
   ]
  },
  {
   "cell_type": "code",
   "execution_count": null,
   "metadata": {},
   "outputs": [],
   "source": [
    "# Add new column 'time' that displays the time from project launch to project end\n",
    "df.eval('time = state_changed_at_new - launched_at_new', inplace=True)\n",
    "# Convert to days\n",
    "df['time'] = df['time'].apply(lambda x: pd.Timedelta(x).days)"
   ]
  },
  {
   "cell_type": "code",
   "execution_count": null,
   "metadata": {},
   "outputs": [],
   "source": [
    "# Change dates to weekend(1) or weekday(0)\n",
    "def change_time(dataframe, column_list):\n",
    "    for column in column_list:\n",
    "        dataframe[column] = [1 if x >= 6 else 0 for x in pd.to_datetime(dataframe[column], unit='s').dt.weekday]\n",
    "    return dataframe"
   ]
  },
  {
   "cell_type": "code",
   "execution_count": null,
   "metadata": {},
   "outputs": [],
   "source": [
    "times_lst = ['launched_at', 'deadline', 'state_changed_at']\n",
    "change_time(df, times_lst)"
   ]
  },
  {
   "cell_type": "code",
   "execution_count": null,
   "metadata": {},
   "outputs": [],
   "source": [
    "df.eval('goal = goal * static_usd_rate', inplace=True)"
   ]
  },
  {
   "cell_type": "markdown",
   "metadata": {},
   "source": [
    "---\n",
    "EDA - Part 2\n",
    "---"
   ]
  },
  {
   "cell_type": "markdown",
   "metadata": {},
   "source": [
    "##### Plots"
   ]
  },
  {
   "cell_type": "code",
   "execution_count": null,
   "metadata": {},
   "outputs": [],
   "source": [
    "# Which data needs to be plotted categorical and which numerical\n",
    "categorical = ['country','currency', 'staff_pick', 'category','duration']\n",
    "numerical = ['usd_pledged', 'goal', 'converted_pledged_amount']"
   ]
  },
  {
   "cell_type": "code",
   "execution_count": null,
   "metadata": {},
   "outputs": [],
   "source": [
    "def bar_plot(df, column):\n",
    "    \"\"\"Generates barplots of categorical data\n",
    "\n",
    "    Args:\n",
    "        df (pd dataframe): Dataframe\n",
    "        column (object): list of names of columns which should be plotted\n",
    "    \"\"\"\n",
    "    # get feature\n",
    "    for i in column:\n",
    "        varValue = df[i].value_counts()\n",
    "\n",
    "        plt.figure(figsize = (12,3))\n",
    "        plt.bar(varValue.index, varValue, color = '#87c442', edgecolor = 'black')\n",
    "        plt.xticks(varValue.index, varValue.index.values)\n",
    "        plt.ylabel(\"Frequency\")\n",
    "        plt.title(i.capitalize())\n",
    "        plt.xticks(rotation = 90)\n",
    "        plt.show()"
   ]
  },
  {
   "cell_type": "markdown",
   "metadata": {},
   "source": [
    "##### Categorical Data"
   ]
  },
  {
   "cell_type": "code",
   "execution_count": null,
   "metadata": {},
   "outputs": [],
   "source": [
    "bar_plot(df, categorical)"
   ]
  },
  {
   "cell_type": "markdown",
   "metadata": {},
   "source": [
    "##### Numerical Data"
   ]
  },
  {
   "cell_type": "code",
   "execution_count": null,
   "metadata": {},
   "outputs": [],
   "source": [
    "# We have some values in goal which are unrealistically high\n",
    "# cutoff at 100000, we are focusing on small to average kickstarter projects\n",
    "df = df.query('goal < 100000')"
   ]
  },
  {
   "cell_type": "code",
   "execution_count": null,
   "metadata": {},
   "outputs": [],
   "source": [
    "plt.figure(figsize = (12,5))\n",
    "plt.hist(df['goal'], bins = None, facecolor = '#87c442', edgecolor = 'black');"
   ]
  },
  {
   "cell_type": "markdown",
   "metadata": {},
   "source": [
    "##### Misc"
   ]
  },
  {
   "cell_type": "code",
   "execution_count": null,
   "metadata": {},
   "outputs": [],
   "source": [
    "# Drop id (not needed anymore) and converted pledged amount\n",
    "df.drop('id', axis = 1, inplace = True)\n",
    "df.drop('converted_pledged_amount', axis = 1, inplace = True)"
   ]
  },
  {
   "cell_type": "markdown",
   "metadata": {},
   "source": [
    "#### One-hot encoding"
   ]
  },
  {
   "cell_type": "code",
   "execution_count": null,
   "metadata": {},
   "outputs": [],
   "source": [
    "# One hot encode all categorical data (country, currency, staff_pick, categories, disable_communication, duration) boolean values might \n",
    "# Replace True False with strings, otherwise one-hot encoding doesnt work\n",
    "df['staff_pick'].replace([True,False],['t','f'], inplace=True)\n",
    "\n",
    "one_hot_featurelist = ['country', 'currency', 'staff_pick', 'category', 'duration']\n",
    "one_hot = pd.get_dummies(df[one_hot_featurelist])\n",
    "df.drop(one_hot_featurelist, axis = 1, inplace=True)\n",
    "df = df.join(one_hot)"
   ]
  },
  {
   "cell_type": "markdown",
   "metadata": {},
   "source": [
    "#### Scalerize"
   ]
  },
  {
   "cell_type": "code",
   "execution_count": null,
   "metadata": {},
   "outputs": [],
   "source": [
    "def scale_columns(df, column):\n",
    "    \"\"\"Function that scales the data with a min_max scaler\n",
    "\n",
    "    Args:\n",
    "        df (dataframe): Dataframe\n",
    "        column (object): Name or list of names including the columns which should be normalized\n",
    "\n",
    "    Returns:\n",
    "        Dataframe object: Returns the dataframe including the normalized columns\n",
    "    \"\"\"\n",
    "    scaler = MinMaxScaler()\n",
    "    for i in column:\n",
    "        scaler.fit(df[[i]])\n",
    "        df[i] = scaler.transform(df[[i]])\n",
    "    \n",
    "    return df"
   ]
  },
  {
   "cell_type": "code",
   "execution_count": null,
   "metadata": {},
   "outputs": [],
   "source": [
    "# Standardize numerical data\n",
    "numerical = ['goal']\n",
    "df = scale_columns(df, numerical)"
   ]
  },
  {
   "cell_type": "markdown",
   "metadata": {},
   "source": [
    "#### Feature Engineering 2"
   ]
  },
  {
   "cell_type": "code",
   "execution_count": null,
   "metadata": {},
   "outputs": [],
   "source": [
    "# Drop features which will not be needed for further analysis\n",
    "dropped_features = ['launched_at_new','deadline_new','state_changed_at_new']\n",
    "df = df.drop(dropped_features, axis=1)"
   ]
  },
  {
   "cell_type": "code",
   "execution_count": null,
   "metadata": {},
   "outputs": [],
   "source": [
    "# Extract live values\n",
    "array_live = ['live']\n",
    "live_projects = df.loc[df['state'].isin(array_live)]\n",
    "\n",
    "# Filter and concat. for target variable\n",
    "array_notlive = ['successful', 'failed', 'canceled']\n",
    "\n",
    "df = df.loc[df['state'].isin(array_notlive)]\n",
    "# Add canceled to failed projects\n",
    "df.replace('canceled','failed', inplace=True)\n",
    "# Replace successful and failed entries with 0 and 1\n",
    "df.replace(['successful','failed'],[1,0], inplace=True)"
   ]
  },
  {
   "cell_type": "markdown",
   "metadata": {},
   "source": [
    "#### Dummy Classifier and Baseline Model"
   ]
  },
  {
   "cell_type": "code",
   "execution_count": null,
   "metadata": {},
   "outputs": [],
   "source": [
    "# Set x and y\n",
    "X = df.drop('state', axis = 1)\n",
    "y = df['state']"
   ]
  },
  {
   "cell_type": "code",
   "execution_count": null,
   "metadata": {},
   "outputs": [],
   "source": [
    "dummy = DummyClassifier(strategy='stratified', random_state=RSEED, constant=None)\n",
    "dummy.fit(X,y)\n",
    "\n",
    "y_pred = dummy.predict(X)\n",
    "f1_score(y, y_pred)"
   ]
  },
  {
   "cell_type": "code",
   "execution_count": null,
   "metadata": {},
   "outputs": [],
   "source": [
    "confusion_matrix(y, y_pred)"
   ]
  },
  {
   "cell_type": "markdown",
   "metadata": {},
   "source": [
    "#### Model"
   ]
  },
  {
   "cell_type": "code",
   "execution_count": null,
   "metadata": {},
   "outputs": [],
   "source": [
    "# Train-test split\n",
    "X_train, X_test, y_train, y_test = train_test_split(X,y, test_size= 0.3, random_state=RSEED)\n",
    "X_train.shape, X_test.shape, y_train.shape, y_test.shape"
   ]
  },
  {
   "cell_type": "code",
   "execution_count": null,
   "metadata": {},
   "outputs": [],
   "source": [
    "# List of models used\n",
    "models = list()\n",
    "\n",
    "models.append(LogisticRegression())\n",
    "models.append(DecisionTreeClassifier())\n",
    "models.append(RandomForestClassifier())\n",
    "models.append(GradientBoostingClassifier())\n",
    "models.append(AdaBoostClassifier(DecisionTreeClassifier(),learning_rate=0.1))\n",
    "models.append(KNeighborsClassifier())\n",
    "models.append(XGBClassifier())"
   ]
  },
  {
   "cell_type": "code",
   "execution_count": null,
   "metadata": {},
   "outputs": [],
   "source": [
    "# Amount of volding for cross-validation\n",
    "kfold = StratifiedKFold(n_splits=5)"
   ]
  },
  {
   "cell_type": "code",
   "execution_count": null,
   "metadata": {},
   "outputs": [],
   "source": [
    "# Find cross validation scores from list of models. The target is f1. Time is also accounted for to find the most effective models\n",
    "cv_results = []\n",
    "cv_names = []\n",
    "cv_times = []\n",
    "\n",
    "for model in models:\n",
    "    start_time = time.time()\n",
    "    print('go:', model)\n",
    "    cv_results.append(cross_val_score(model, X_train, y = y_train, scoring = \"f1\", cv = kfold, n_jobs=4, verbose=0))\n",
    "    cv_names.append(model.__class__.__name__)\n",
    "    end_time = time.time()\n",
    "    total_time = round(end_time - start_time ,2)\n",
    "    cv_times.append(total_time)\n",
    "    print('end:', model)\n",
    "\n",
    "cv_means = []\n",
    "cv_std = []\n",
    "\n",
    "for cv_result in cv_results:\n",
    "    cv_means.append(cv_result.mean())\n",
    "    cv_std.append(cv_result.std())\n",
    "    \n",
    "\n",
    "cv_res = pd.DataFrame({\"CrossValMeans\":cv_means,\"CrossValerrors\": cv_std,\"Algorithm\":cv_names, \"Time needed for training\":cv_times})\n",
    "\n",
    "g = sns.barplot(\"CrossValMeans\",\"Algorithm\",data = cv_res,orient = \"h\",**{'xerr':cv_std})\n",
    "g.set_xlabel(\"Average F1 score\")\n",
    "g = g.set_title(\"K-fold Cross validation average F1 score\")"
   ]
  },
  {
   "cell_type": "code",
   "execution_count": null,
   "metadata": {},
   "outputs": [],
   "source": [
    "cv_res['criterion'] = cv_res.CrossValMeans - cv_res.CrossValerrors/2\n",
    "cv_res.sort_values(by='criterion', ascending=False)\n",
    "# We select XGBClassifier, LogisticRegression, and RandomForestClassifier for hyperparameter tuning"
   ]
  },
  {
   "cell_type": "code",
   "execution_count": null,
   "metadata": {},
   "outputs": [],
   "source": [
    "### XGB classifier\n",
    "\n",
    "XGB = XGBClassifier()\n",
    "\n",
    "max_depth = [1,2,4,8,10]\n",
    "min_child_weight = np.linspace(1, 10, 5, endpoint=True) \n",
    "\n",
    "gamma = np.linspace(0.5, 5, 5, endpoint=True)\n",
    "subsample = np.linspace(0.5, 1, 5, endpoint=True)\n",
    "colsample_bytree = np.linspace(0.5, 1, 5, endpoint=True)\n",
    "\n",
    "XGB_param_grid = {\n",
    "        'min_child_weight': min_child_weight,\n",
    "        'gamma': gamma,\n",
    "        'subsample': subsample,\n",
    "        'colsample_bytree': colsample_bytree,\n",
    "        'max_depth': max_depth\n",
    "        }\n",
    "\n",
    "\n",
    "gsXGB = HalvingGridSearchCV(estimator = XGB, \n",
    "                    param_grid = XGB_param_grid, cv=kfold, scoring=\"f1\", n_jobs= 4, verbose = 1)\n",
    "\n",
    "gsXGB.fit(X_train,y_train)\n",
    "\n",
    "XGB_best = gsXGB.best_estimator_\n",
    "print(XGB_best.get_params())\n",
    "\n",
    "# Best score\n",
    "gsXGB.best_score_"
   ]
  },
  {
   "cell_type": "code",
   "execution_count": 268,
   "metadata": {},
   "outputs": [
    {
     "data": {
      "text/plain": [
       "<AxesSubplot:>"
      ]
     },
     "execution_count": 268,
     "metadata": {},
     "output_type": "execute_result"
    },
    {
     "data": {
      "image/png": "[encoded data removed]",
      "text/plain": [
       "<Figure size 1440x720 with 1 Axes>"
      ]
     },
     "metadata": {
      "needs_background": "light"
     },
     "output_type": "display_data"
    }
   ],
   "source": [
    "feature_important = XGB_best.get_booster().get_score(importance_type='weight')\n",
    "keys = list(feature_important.keys())\n",
    "values = list(feature_important.values())\n",
    "\n",
    "data = pd.DataFrame(data=values, index=keys, columns=[\"score\"]).sort_values(by = \"score\", ascending=False)\n",
    "data.nlargest(120, columns=\"score\").plot(kind='barh', figsize = (20,10)) ## plot top 40 features"
   ]
  },
  {
   "cell_type": "code",
   "execution_count": null,
   "metadata": {},
   "outputs": [],
   "source": [
    "data.head(20)"
   ]
  },
  {
   "cell_type": "code",
   "execution_count": null,
   "metadata": {},
   "outputs": [],
   "source": [
    "# RFC Parameters tunning \n",
    "RFC = RandomForestClassifier()\n",
    "\n",
    "# Number of trees in random forest\n",
    "n_estimators = [int(x) for x in np.linspace(start = 200, stop = 800, num = 2)]\n",
    "# Number of features to consider at every split\n",
    "max_features = ['auto', 'sqrt']\n",
    "# Maximum number of levels in tree\n",
    "max_depth = [int(x) for x in np.linspace(1, 20, num = 5)]\n",
    "max_depth.append(None)\n",
    "# Minimum number of samples required to split a node\n",
    "min_samples_split = [ 5, 10]\n",
    "# Minimum number of samples required at each leaf node\n",
    "min_samples_leaf = [ 2, 4]\n",
    "# Method of selecting samples for training each tree\n",
    "bootstrap = [True, False]\n",
    "\n",
    "## Search grid for optimal parameters\n",
    "rf_param_grid = {\"max_depth\": max_depth,\n",
    "              \"max_features\": max_features,\n",
    "              \"min_samples_split\": min_samples_split,\n",
    "              \"min_samples_leaf\": min_samples_leaf,\n",
    "              \"bootstrap\": bootstrap,\n",
    "              \"n_estimators\" :n_estimators,\n",
    "              \"criterion\": [\"gini\"]}\n",
    "              \n",
    "\n",
    "gsRFC = HalvingGridSearchCV(RFC,param_grid = rf_param_grid, cv=kfold, scoring=\"f1\", n_jobs= 4, verbose = 1)\n",
    "\n",
    "gsRFC.fit(X_train,y_train)\n",
    "\n",
    "RFC_best = gsRFC.best_estimator_\n",
    "\n",
    "print(RFC_best.get_params())\n",
    "\n",
    "\n",
    "# Best score\n",
    "gsRFC.best_score_"
   ]
  },
  {
   "cell_type": "code",
   "execution_count": null,
   "metadata": {},
   "outputs": [],
   "source": [
    "# Logistic Regression Parameters tunning\n",
    "LR = LogisticRegression( )\n",
    "\n",
    "# Create regularization penalty space\n",
    "penalty = ['l1', 'l2']\n",
    "\n",
    "# Create regularization hyperparameter space\n",
    "C = np.logspace(-2, 2, 20)\n",
    "\n",
    "lr_param_grid = {'penalty': penalty, 'C': C }\n",
    "\n",
    "clf = GridSearchCV(LogisticRegression(), lr_param_grid)\n",
    "\n",
    "gsLR = GridSearchCV(LR, param_grid = lr_param_grid, cv=kfold, scoring=\"f1\", n_jobs= 4, verbose = -1)\n",
    "\n",
    "gsLR.fit(X_train,y_train)\n",
    "\n",
    "LR_best = gsLR.best_estimator_\n",
    "\n",
    "# View best hyperparameters\n",
    "print('Best Penalty:', LR_best.get_params()['penalty'])\n",
    "print('Best C:', LR_best.get_params()['C'])\n",
    "\n",
    "# Best score\n",
    "gsLR.best_score_"
   ]
  },
  {
   "cell_type": "code",
   "execution_count": null,
   "metadata": {},
   "outputs": [],
   "source": [
    "# Voting Classifier (soft voting) including the three best models after grid search\n",
    "votingC = VotingClassifier(estimators=[('LR', LR_best), ('XGB',XGB_best), (\"RandomForest\",RFC_best)], voting='soft', n_jobs=4)\n",
    "\n",
    "votingC = votingC.fit(X_train, y_train)"
   ]
  },
  {
   "cell_type": "code",
   "execution_count": null,
   "metadata": {},
   "outputs": [],
   "source": [
    "votingC_predict = votingC.predict(X_test)\n",
    "f1_score_votingC = f1_score(votingC_predict, y_test)\n",
    "f1_score_votingC\n",
    "# We achieve a max. f1 score of 75.6%"
   ]
  },
  {
   "cell_type": "markdown",
   "metadata": {},
   "source": [
    "#### Make Predictions on live dataset"
   ]
  },
  {
   "cell_type": "code",
   "execution_count": null,
   "metadata": {},
   "outputs": [],
   "source": [
    "# Set x and y\n",
    "X_array_live = array_live.drop('state', axis = 1)\n"
   ]
  },
  {
   "cell_type": "code",
   "execution_count": null,
   "metadata": {},
   "outputs": [],
   "source": [
    "live_projects = votingC.predict(X_array_live)\n",
    "live_projects.replace([1,0],['successful','failed'], inplace=True)"
   ]
  }
 ],
 "metadata": {
  "interpreter": {
   "hash": "91d869ccaeca790aa5051b91a32a203614f98fb4ba9d9ad287b8f5d4ebac826d"
  },
  "kernelspec": {
   "display_name": "Python 3.9.8 ('.venv': venv)",
   "language": "python",
   "name": "python3"
  },
  "language_info": {
   "codemirror_mode": {
    "name": "ipython",
    "version": 3
   },
   "file_extension": ".py",
   "mimetype": "text/x-python",
   "name": "python",
   "nbconvert_exporter": "python",
   "pygments_lexer": "ipython3",
   "version": "3.9.8"
  },
  "orig_nbformat": 4
 },
 "nbformat": 4,
 "nbformat_minor": 2
}
