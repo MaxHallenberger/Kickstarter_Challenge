{
 "cells": [
  {
   "cell_type": "markdown",
   "metadata": {},
   "source": [
    "![Kickstarer](./images/kickstarter.png)"
   ]
  },
  {
   "cell_type": "markdown",
   "metadata": {},
   "source": [
    "---\n",
    "Imports\n",
    "---"
   ]
  },
  {
   "cell_type": "code",
   "execution_count": 62,
   "metadata": {},
   "outputs": [],
   "source": [
    "import glob\n",
    "import pandas as pd\n",
    "import seaborn as sns\n",
    "import matplotlib.pyplot as plt\n",
    "import re\n",
    "from sklearn.preprocessing import StandardScaler\n",
    "from sklearn.preprocessing import MinMaxScaler\n",
    "\n",
    "import warnings\n",
    "warnings.filterwarnings('ignore')\n",
    "#pd.options.display.max_columns = None\n",
    "#pd.options.display.max_rows = None"
   ]
  },
  {
   "cell_type": "code",
   "execution_count": 2,
   "metadata": {},
   "outputs": [],
   "source": [
    "# Import the .csv files and concat them into one dataframe\n",
    "original_dataframe = pd.concat(map(pd.read_csv, glob.glob('data/data-2/*.csv')))"
   ]
  },
  {
   "cell_type": "code",
   "execution_count": 3,
   "metadata": {},
   "outputs": [],
   "source": [
    "# Set a working dataframe, so that we don't have to wait 10s it to import again if we want to start fresh\n",
    "df = original_dataframe"
   ]
  },
  {
   "cell_type": "markdown",
   "metadata": {},
   "source": [
    "---\n",
    "EDA - Part 1\n",
    "---"
   ]
  },
  {
   "cell_type": "code",
   "execution_count": 4,
   "metadata": {},
   "outputs": [
    {
     "name": "stdout",
     "output_type": "stream",
     "text": [
      "<class 'pandas.core.frame.DataFrame'>\n",
      "Int64Index: 209222 entries, 0 to 3791\n",
      "Data columns (total 37 columns):\n",
      " #   Column                    Non-Null Count   Dtype  \n",
      "---  ------                    --------------   -----  \n",
      " 0   backers_count             209222 non-null  int64  \n",
      " 1   blurb                     209214 non-null  object \n",
      " 2   category                  209222 non-null  object \n",
      " 3   converted_pledged_amount  209222 non-null  int64  \n",
      " 4   country                   209222 non-null  object \n",
      " 5   created_at                209222 non-null  int64  \n",
      " 6   creator                   209222 non-null  object \n",
      " 7   currency                  209222 non-null  object \n",
      " 8   currency_symbol           209222 non-null  object \n",
      " 9   currency_trailing_code    209222 non-null  bool   \n",
      " 10  current_currency          209222 non-null  object \n",
      " 11  deadline                  209222 non-null  int64  \n",
      " 12  disable_communication     209222 non-null  bool   \n",
      " 13  friends                   300 non-null     object \n",
      " 14  fx_rate                   209222 non-null  float64\n",
      " 15  goal                      209222 non-null  float64\n",
      " 16  id                        209222 non-null  int64  \n",
      " 17  is_backing                300 non-null     object \n",
      " 18  is_starrable              209222 non-null  bool   \n",
      " 19  is_starred                300 non-null     object \n",
      " 20  launched_at               209222 non-null  int64  \n",
      " 21  location                  208996 non-null  object \n",
      " 22  name                      209222 non-null  object \n",
      " 23  permissions               300 non-null     object \n",
      " 24  photo                     209222 non-null  object \n",
      " 25  pledged                   209222 non-null  float64\n",
      " 26  profile                   209222 non-null  object \n",
      " 27  slug                      209222 non-null  object \n",
      " 28  source_url                209222 non-null  object \n",
      " 29  spotlight                 209222 non-null  bool   \n",
      " 30  staff_pick                209222 non-null  bool   \n",
      " 31  state                     209222 non-null  object \n",
      " 32  state_changed_at          209222 non-null  int64  \n",
      " 33  static_usd_rate           209222 non-null  float64\n",
      " 34  urls                      209222 non-null  object \n",
      " 35  usd_pledged               209222 non-null  float64\n",
      " 36  usd_type                  208742 non-null  object \n",
      "dtypes: bool(5), float64(5), int64(7), object(20)\n",
      "memory usage: 53.7+ MB\n"
     ]
    }
   ],
   "source": [
    "df.info()"
   ]
  },
  {
   "cell_type": "code",
   "execution_count": 5,
   "metadata": {},
   "outputs": [
    {
     "data": {
      "text/plain": [
       "backers_count                    0\n",
       "blurb                            8\n",
       "category                         0\n",
       "converted_pledged_amount         0\n",
       "country                          0\n",
       "created_at                       0\n",
       "creator                          0\n",
       "currency                         0\n",
       "currency_symbol                  0\n",
       "currency_trailing_code           0\n",
       "current_currency                 0\n",
       "deadline                         0\n",
       "disable_communication            0\n",
       "friends                     208922\n",
       "fx_rate                          0\n",
       "goal                             0\n",
       "id                               0\n",
       "is_backing                  208922\n",
       "is_starrable                     0\n",
       "is_starred                  208922\n",
       "launched_at                      0\n",
       "location                       226\n",
       "name                             0\n",
       "permissions                 208922\n",
       "photo                            0\n",
       "pledged                          0\n",
       "profile                          0\n",
       "slug                             0\n",
       "source_url                       0\n",
       "spotlight                        0\n",
       "staff_pick                       0\n",
       "state                            0\n",
       "state_changed_at                 0\n",
       "static_usd_rate                  0\n",
       "urls                             0\n",
       "usd_pledged                      0\n",
       "usd_type                       480\n",
       "dtype: int64"
      ]
     },
     "execution_count": 5,
     "metadata": {},
     "output_type": "execute_result"
    }
   ],
   "source": [
    "df.isnull().sum()"
   ]
  },
  {
   "cell_type": "code",
   "execution_count": 6,
   "metadata": {},
   "outputs": [
    {
     "data": {
      "text/plain": [
       "successful    117465\n",
       "failed         75199\n",
       "canceled        8624\n",
       "live            7311\n",
       "suspended        623\n",
       "Name: state, dtype: int64"
      ]
     },
     "execution_count": 6,
     "metadata": {},
     "output_type": "execute_result"
    }
   ],
   "source": [
    "# Only a very limited amount of suspended projects (drop), canceled projects will be treated as though they failed\n",
    "df['state'].value_counts()"
   ]
  },
  {
   "cell_type": "code",
   "execution_count": 7,
   "metadata": {},
   "outputs": [
    {
     "data": {
      "text/plain": [
       "26958"
      ]
     },
     "execution_count": 7,
     "metadata": {},
     "output_type": "execute_result"
    }
   ],
   "source": [
    "# Check for duplicate projects and store them in a table\n",
    "dups = df.groupby(df.id.tolist()).size().reset_index().rename(columns={0:'count'})\n",
    "# Sum the final col of that table, and subtract the number of culprits:\n",
    "dups['count'].sum() - dups.shape[0]"
   ]
  },
  {
   "cell_type": "markdown",
   "metadata": {},
   "source": [
    "---\n",
    "Data Cleaning\n",
    "---"
   ]
  },
  {
   "cell_type": "code",
   "execution_count": 8,
   "metadata": {},
   "outputs": [],
   "source": [
    "# Drop features which will not be needed for further analysis\n",
    "dropped_features = ['blurb', 'currency_symbol', 'backers_count', 'is_backing', 'permissions', 'is_starred', 'source_url',\n",
    "                    'slug', 'name', 'static_usd_rate', 'profile', 'friends', 'spotlight', 'is_starrable', 'photo', 'pledged', 'usd_type',\n",
    "                    'fx_rate', 'location', 'creator', 'currency_trailing_code','current_currency', 'created_at', 'urls']\n",
    "df = df.drop(dropped_features, axis=1)"
   ]
  },
  {
   "cell_type": "code",
   "execution_count": 9,
   "metadata": {},
   "outputs": [],
   "source": [
    "# Built array which contains live projects for later use \n",
    "array_live = ['live']\n",
    "live_projects = df.loc[df['state'].isin(array_live)]\n",
    "\n",
    "# Filter and concat. for target variable\n",
    "array_notlive = ['successful', 'failed', 'canceled']\n",
    "df = df.loc[df['state'].isin(array_notlive)]\n",
    "df.replace('canceled','failed', inplace=True)\n",
    "# Replace successful and failed entries\n",
    "df.replace(['successful','failed'],[1,0], inplace=True)"
   ]
  },
  {
   "cell_type": "code",
   "execution_count": 10,
   "metadata": {},
   "outputs": [],
   "source": [
    "# Sort dataframe by 'date_changed_at' so that we will keep the entry that was most recently updated\n",
    "df.sort_values('state_changed_at')\n",
    "# Remove duplicates\n",
    "duplicates = df.duplicated(subset='id', keep='last')\n",
    "df = df[~duplicates]"
   ]
  },
  {
   "cell_type": "markdown",
   "metadata": {},
   "source": [
    "---\n",
    "Feature Engineering\n",
    "---"
   ]
  },
  {
   "cell_type": "code",
   "execution_count": 11,
   "metadata": {},
   "outputs": [],
   "source": [
    "#Extract category names from long string in 'category' column\n",
    "list = []\n",
    "for i, j in df['category'].iteritems():\n",
    "    try:\n",
    "        found = re.search('slug\":\"(.+?)/', j).group(1)\n",
    "        list.append(found)\n",
    "    except AttributeError:\n",
    "        pass\n",
    "\n",
    "list_2 = []\n",
    "for i, j in enumerate(list):\n",
    "    try:\n",
    "        found = re.search('(.+?)\"', j).group(1)\n",
    "        list_2.append(found)\n",
    "    except AttributeError:\n",
    "        pass\n",
    "\n",
    "# Add the categories and delete the original cluttered category\n",
    "df['categories'] = pd.Series(list_2)\n",
    "df.drop('category', axis=1, inplace=True)"
   ]
  },
  {
   "cell_type": "code",
   "execution_count": 12,
   "metadata": {},
   "outputs": [],
   "source": [
    "# Generate new column with readable timeformat\n",
    "df['launched_at_new'] = pd.to_datetime(df['launched_at'], unit='s')\n",
    "df['deadline_new'] = pd.to_datetime(df['deadline'], unit='s')\n",
    "df['state_changed_at_new'] = pd.to_datetime(df['state_changed_at'], unit='s')"
   ]
  },
  {
   "cell_type": "code",
   "execution_count": 13,
   "metadata": {},
   "outputs": [],
   "source": [
    "# Create new feature 'duration' that displays wheather the project timespan was more or less than 30 days\n",
    "df = df.eval('duration = deadline - launched_at')\n",
    "df['duration'] = ['over' if x > 2592000 else 'under' for x in df['duration']]"
   ]
  },
  {
   "cell_type": "code",
   "execution_count": 14,
   "metadata": {},
   "outputs": [],
   "source": [
    "# Add new column 'time' that displays the time from project launch to project end\n",
    "df.eval('time = state_changed_at_new - launched_at_new', inplace=True)"
   ]
  },
  {
   "cell_type": "code",
   "execution_count": 15,
   "metadata": {},
   "outputs": [],
   "source": [
    "# Change dates to weekend(1) or weekday(0)\n",
    "def change_time(dataframe, column_list):\n",
    "    for column in column_list:\n",
    "        dataframe[column] = [1 if x >= 6 else 0 for x in pd.to_datetime(dataframe[column], unit='s').dt.weekday]\n",
    "    return dataframe"
   ]
  },
  {
   "cell_type": "code",
   "execution_count": 16,
   "metadata": {},
   "outputs": [
    {
     "data": {
      "text/html": [
       "<div>\n",
       "<style scoped>\n",
       "    .dataframe tbody tr th:only-of-type {\n",
       "        vertical-align: middle;\n",
       "    }\n",
       "\n",
       "    .dataframe tbody tr th {\n",
       "        vertical-align: top;\n",
       "    }\n",
       "\n",
       "    .dataframe thead th {\n",
       "        text-align: right;\n",
       "    }\n",
       "</style>\n",
       "<table border=\"1\" class=\"dataframe\">\n",
       "  <thead>\n",
       "    <tr style=\"text-align: right;\">\n",
       "      <th></th>\n",
       "      <th>converted_pledged_amount</th>\n",
       "      <th>country</th>\n",
       "      <th>currency</th>\n",
       "      <th>deadline</th>\n",
       "      <th>disable_communication</th>\n",
       "      <th>goal</th>\n",
       "      <th>id</th>\n",
       "      <th>launched_at</th>\n",
       "      <th>staff_pick</th>\n",
       "      <th>state</th>\n",
       "      <th>state_changed_at</th>\n",
       "      <th>usd_pledged</th>\n",
       "      <th>categories</th>\n",
       "      <th>launched_at_new</th>\n",
       "      <th>deadline_new</th>\n",
       "      <th>state_changed_at_new</th>\n",
       "      <th>duration</th>\n",
       "      <th>time</th>\n",
       "    </tr>\n",
       "  </thead>\n",
       "  <tbody>\n",
       "    <tr>\n",
       "      <th>1</th>\n",
       "      <td>1950</td>\n",
       "      <td>US</td>\n",
       "      <td>USD</td>\n",
       "      <td>0</td>\n",
       "      <td>False</td>\n",
       "      <td>1000.0</td>\n",
       "      <td>928751314</td>\n",
       "      <td>0</td>\n",
       "      <td>False</td>\n",
       "      <td>1</td>\n",
       "      <td>0</td>\n",
       "      <td>1950.000000</td>\n",
       "      <td>photography</td>\n",
       "      <td>2017-08-10 17:00:59</td>\n",
       "      <td>2017-09-09 17:00:59</td>\n",
       "      <td>2017-09-09 17:00:59</td>\n",
       "      <td>under</td>\n",
       "      <td>30 days 00:00:00</td>\n",
       "    </tr>\n",
       "    <tr>\n",
       "      <th>2</th>\n",
       "      <td>22404</td>\n",
       "      <td>US</td>\n",
       "      <td>USD</td>\n",
       "      <td>0</td>\n",
       "      <td>False</td>\n",
       "      <td>15000.0</td>\n",
       "      <td>928014092</td>\n",
       "      <td>0</td>\n",
       "      <td>False</td>\n",
       "      <td>1</td>\n",
       "      <td>0</td>\n",
       "      <td>22404.000000</td>\n",
       "      <td>fashion</td>\n",
       "      <td>2013-05-13 05:03:15</td>\n",
       "      <td>2013-06-12 05:03:15</td>\n",
       "      <td>2013-06-12 05:03:15</td>\n",
       "      <td>under</td>\n",
       "      <td>30 days 00:00:00</td>\n",
       "    </tr>\n",
       "    <tr>\n",
       "      <th>3</th>\n",
       "      <td>165</td>\n",
       "      <td>GB</td>\n",
       "      <td>GBP</td>\n",
       "      <td>0</td>\n",
       "      <td>False</td>\n",
       "      <td>10000.0</td>\n",
       "      <td>596091328</td>\n",
       "      <td>0</td>\n",
       "      <td>False</td>\n",
       "      <td>0</td>\n",
       "      <td>0</td>\n",
       "      <td>165.384934</td>\n",
       "      <td>music</td>\n",
       "      <td>2017-01-12 18:22:56</td>\n",
       "      <td>2017-03-13 17:22:56</td>\n",
       "      <td>2017-03-13 17:22:56</td>\n",
       "      <td>over</td>\n",
       "      <td>59 days 23:00:00</td>\n",
       "    </tr>\n",
       "    <tr>\n",
       "      <th>4</th>\n",
       "      <td>2820</td>\n",
       "      <td>US</td>\n",
       "      <td>USD</td>\n",
       "      <td>0</td>\n",
       "      <td>False</td>\n",
       "      <td>2800.0</td>\n",
       "      <td>998516049</td>\n",
       "      <td>0</td>\n",
       "      <td>False</td>\n",
       "      <td>1</td>\n",
       "      <td>0</td>\n",
       "      <td>2820.000000</td>\n",
       "      <td>photography</td>\n",
       "      <td>2012-12-10 20:32:07</td>\n",
       "      <td>2013-01-09 20:32:07</td>\n",
       "      <td>2013-01-09 20:32:07</td>\n",
       "      <td>under</td>\n",
       "      <td>30 days 00:00:00</td>\n",
       "    </tr>\n",
       "    <tr>\n",
       "      <th>5</th>\n",
       "      <td>3725</td>\n",
       "      <td>US</td>\n",
       "      <td>USD</td>\n",
       "      <td>0</td>\n",
       "      <td>False</td>\n",
       "      <td>3500.0</td>\n",
       "      <td>1224600291</td>\n",
       "      <td>0</td>\n",
       "      <td>False</td>\n",
       "      <td>1</td>\n",
       "      <td>0</td>\n",
       "      <td>3725.000000</td>\n",
       "      <td>theater</td>\n",
       "      <td>2015-04-02 02:25:46</td>\n",
       "      <td>2015-05-02 02:25:46</td>\n",
       "      <td>2015-05-02 02:25:46</td>\n",
       "      <td>under</td>\n",
       "      <td>30 days 00:00:00</td>\n",
       "    </tr>\n",
       "    <tr>\n",
       "      <th>...</th>\n",
       "      <td>...</td>\n",
       "      <td>...</td>\n",
       "      <td>...</td>\n",
       "      <td>...</td>\n",
       "      <td>...</td>\n",
       "      <td>...</td>\n",
       "      <td>...</td>\n",
       "      <td>...</td>\n",
       "      <td>...</td>\n",
       "      <td>...</td>\n",
       "      <td>...</td>\n",
       "      <td>...</td>\n",
       "      <td>...</td>\n",
       "      <td>...</td>\n",
       "      <td>...</td>\n",
       "      <td>...</td>\n",
       "      <td>...</td>\n",
       "      <td>...</td>\n",
       "    </tr>\n",
       "    <tr>\n",
       "      <th>3787</th>\n",
       "      <td>8924</td>\n",
       "      <td>US</td>\n",
       "      <td>USD</td>\n",
       "      <td>0</td>\n",
       "      <td>False</td>\n",
       "      <td>1500.0</td>\n",
       "      <td>1011591139</td>\n",
       "      <td>0</td>\n",
       "      <td>False</td>\n",
       "      <td>1</td>\n",
       "      <td>0</td>\n",
       "      <td>8924.000000</td>\n",
       "      <td>photography</td>\n",
       "      <td>2018-11-27 22:38:32</td>\n",
       "      <td>2018-12-12 04:45:00</td>\n",
       "      <td>2018-12-12 04:45:01</td>\n",
       "      <td>under</td>\n",
       "      <td>14 days 06:06:29</td>\n",
       "    </tr>\n",
       "    <tr>\n",
       "      <th>3788</th>\n",
       "      <td>5710</td>\n",
       "      <td>NL</td>\n",
       "      <td>EUR</td>\n",
       "      <td>0</td>\n",
       "      <td>False</td>\n",
       "      <td>5000.0</td>\n",
       "      <td>4607750</td>\n",
       "      <td>1</td>\n",
       "      <td>False</td>\n",
       "      <td>1</td>\n",
       "      <td>0</td>\n",
       "      <td>5575.830204</td>\n",
       "      <td>theater</td>\n",
       "      <td>2017-05-14 17:21:54</td>\n",
       "      <td>2017-06-19 22:00:00</td>\n",
       "      <td>2017-06-19 22:00:00</td>\n",
       "      <td>over</td>\n",
       "      <td>36 days 04:38:06</td>\n",
       "    </tr>\n",
       "    <tr>\n",
       "      <th>3789</th>\n",
       "      <td>2681</td>\n",
       "      <td>US</td>\n",
       "      <td>USD</td>\n",
       "      <td>0</td>\n",
       "      <td>False</td>\n",
       "      <td>2500.0</td>\n",
       "      <td>67097337</td>\n",
       "      <td>0</td>\n",
       "      <td>False</td>\n",
       "      <td>1</td>\n",
       "      <td>0</td>\n",
       "      <td>2681.000000</td>\n",
       "      <td>photography</td>\n",
       "      <td>2012-08-14 20:36:30</td>\n",
       "      <td>2012-09-17 03:59:00</td>\n",
       "      <td>2012-09-17 03:59:01</td>\n",
       "      <td>over</td>\n",
       "      <td>33 days 07:22:31</td>\n",
       "    </tr>\n",
       "    <tr>\n",
       "      <th>3790</th>\n",
       "      <td>5692</td>\n",
       "      <td>US</td>\n",
       "      <td>USD</td>\n",
       "      <td>0</td>\n",
       "      <td>False</td>\n",
       "      <td>5500.0</td>\n",
       "      <td>1031742546</td>\n",
       "      <td>0</td>\n",
       "      <td>False</td>\n",
       "      <td>1</td>\n",
       "      <td>0</td>\n",
       "      <td>5692.000000</td>\n",
       "      <td>theater</td>\n",
       "      <td>2015-03-21 13:26:15</td>\n",
       "      <td>2015-04-20 13:26:15</td>\n",
       "      <td>2015-04-20 13:26:19</td>\n",
       "      <td>under</td>\n",
       "      <td>30 days 00:00:04</td>\n",
       "    </tr>\n",
       "    <tr>\n",
       "      <th>3791</th>\n",
       "      <td>1293</td>\n",
       "      <td>US</td>\n",
       "      <td>USD</td>\n",
       "      <td>0</td>\n",
       "      <td>False</td>\n",
       "      <td>1000.0</td>\n",
       "      <td>1374988684</td>\n",
       "      <td>0</td>\n",
       "      <td>True</td>\n",
       "      <td>1</td>\n",
       "      <td>0</td>\n",
       "      <td>1293.000000</td>\n",
       "      <td>music</td>\n",
       "      <td>2010-01-21 18:46:33</td>\n",
       "      <td>2010-02-22 04:59:00</td>\n",
       "      <td>2010-02-22 05:00:15</td>\n",
       "      <td>over</td>\n",
       "      <td>31 days 10:13:42</td>\n",
       "    </tr>\n",
       "  </tbody>\n",
       "</table>\n",
       "<p>177603 rows × 18 columns</p>\n",
       "</div>"
      ],
      "text/plain": [
       "      converted_pledged_amount country currency  deadline  \\\n",
       "1                         1950      US      USD         0   \n",
       "2                        22404      US      USD         0   \n",
       "3                          165      GB      GBP         0   \n",
       "4                         2820      US      USD         0   \n",
       "5                         3725      US      USD         0   \n",
       "...                        ...     ...      ...       ...   \n",
       "3787                      8924      US      USD         0   \n",
       "3788                      5710      NL      EUR         0   \n",
       "3789                      2681      US      USD         0   \n",
       "3790                      5692      US      USD         0   \n",
       "3791                      1293      US      USD         0   \n",
       "\n",
       "      disable_communication     goal          id  launched_at  staff_pick  \\\n",
       "1                     False   1000.0   928751314            0       False   \n",
       "2                     False  15000.0   928014092            0       False   \n",
       "3                     False  10000.0   596091328            0       False   \n",
       "4                     False   2800.0   998516049            0       False   \n",
       "5                     False   3500.0  1224600291            0       False   \n",
       "...                     ...      ...         ...          ...         ...   \n",
       "3787                  False   1500.0  1011591139            0       False   \n",
       "3788                  False   5000.0     4607750            1       False   \n",
       "3789                  False   2500.0    67097337            0       False   \n",
       "3790                  False   5500.0  1031742546            0       False   \n",
       "3791                  False   1000.0  1374988684            0        True   \n",
       "\n",
       "      state  state_changed_at   usd_pledged   categories     launched_at_new  \\\n",
       "1         1                 0   1950.000000  photography 2017-08-10 17:00:59   \n",
       "2         1                 0  22404.000000      fashion 2013-05-13 05:03:15   \n",
       "3         0                 0    165.384934        music 2017-01-12 18:22:56   \n",
       "4         1                 0   2820.000000  photography 2012-12-10 20:32:07   \n",
       "5         1                 0   3725.000000      theater 2015-04-02 02:25:46   \n",
       "...     ...               ...           ...          ...                 ...   \n",
       "3787      1                 0   8924.000000  photography 2018-11-27 22:38:32   \n",
       "3788      1                 0   5575.830204      theater 2017-05-14 17:21:54   \n",
       "3789      1                 0   2681.000000  photography 2012-08-14 20:36:30   \n",
       "3790      1                 0   5692.000000      theater 2015-03-21 13:26:15   \n",
       "3791      1                 0   1293.000000        music 2010-01-21 18:46:33   \n",
       "\n",
       "            deadline_new state_changed_at_new duration             time  \n",
       "1    2017-09-09 17:00:59  2017-09-09 17:00:59    under 30 days 00:00:00  \n",
       "2    2013-06-12 05:03:15  2013-06-12 05:03:15    under 30 days 00:00:00  \n",
       "3    2017-03-13 17:22:56  2017-03-13 17:22:56     over 59 days 23:00:00  \n",
       "4    2013-01-09 20:32:07  2013-01-09 20:32:07    under 30 days 00:00:00  \n",
       "5    2015-05-02 02:25:46  2015-05-02 02:25:46    under 30 days 00:00:00  \n",
       "...                  ...                  ...      ...              ...  \n",
       "3787 2018-12-12 04:45:00  2018-12-12 04:45:01    under 14 days 06:06:29  \n",
       "3788 2017-06-19 22:00:00  2017-06-19 22:00:00     over 36 days 04:38:06  \n",
       "3789 2012-09-17 03:59:00  2012-09-17 03:59:01     over 33 days 07:22:31  \n",
       "3790 2015-04-20 13:26:15  2015-04-20 13:26:19    under 30 days 00:00:04  \n",
       "3791 2010-02-22 04:59:00  2010-02-22 05:00:15     over 31 days 10:13:42  \n",
       "\n",
       "[177603 rows x 18 columns]"
      ]
     },
     "execution_count": 16,
     "metadata": {},
     "output_type": "execute_result"
    }
   ],
   "source": [
    "times_lst = ['launched_at', 'deadline', 'state_changed_at']\n",
    "change_time(df, times_lst)"
   ]
  },
  {
   "cell_type": "markdown",
   "metadata": {},
   "source": [
    "---\n",
    "EDA - Part 2\n",
    "---"
   ]
  },
  {
   "cell_type": "markdown",
   "metadata": {},
   "source": [
    "#### Misc."
   ]
  },
  {
   "cell_type": "code",
   "execution_count": 63,
   "metadata": {},
   "outputs": [],
   "source": [
    "# Standardize nummerical data: Goal\n",
    "scaler = MinMaxScaler()\n",
    "scaler.fit(df[['goal']])\n",
    "df['goal'] = scaler.transform(df[['goal']])"
   ]
  },
  {
   "cell_type": "code",
   "execution_count": 64,
   "metadata": {},
   "outputs": [],
   "source": [
    "# Standardize nummerical data: Converted Pledged amount // Kick later!\n",
    "scaler = MinMaxScaler()\n",
    "scaler.fit(df[['converted_pledged_amount']])\n",
    "df['converted_pledged_amount'] = scaler.transform(df[['converted_pledged_amount']])"
   ]
  },
  {
   "cell_type": "code",
   "execution_count": 65,
   "metadata": {},
   "outputs": [],
   "source": [
    "# Standardize nummerical data: Pledged Amount in USD\n",
    "scaler = MinMaxScaler()\n",
    "scaler.fit(df[['usd_pledged']])\n",
    "df['usd_pledged'] = scaler.transform(df[['usd_pledged']])"
   ]
  },
  {
   "cell_type": "code",
   "execution_count": 66,
   "metadata": {},
   "outputs": [
    {
     "data": {
      "text/plain": [
       "0.9999999999999999"
      ]
     },
     "execution_count": 66,
     "metadata": {},
     "output_type": "execute_result"
    }
   ],
   "source": [
    "df['goal'].max()"
   ]
  },
  {
   "cell_type": "code",
   "execution_count": 38,
   "metadata": {},
   "outputs": [
    {
     "data": {
      "image/png": "[encoded data removed]",
      "text/plain": [
       "<Figure size 1008x432 with 1 Axes>"
      ]
     },
     "metadata": {
      "needs_background": "light"
     },
     "output_type": "display_data"
    }
   ],
   "source": [
    "\n",
    "df['state'].value_counts().plot(kind = 'barh', figsize = (14,6))\n",
    "plt.title('State of Campaign'); # 0 equals failed and 1 \n"
   ]
  },
  {
   "cell_type": "code",
   "execution_count": 27,
   "metadata": {},
   "outputs": [
    {
     "data": {
      "image/png": "[encoded data removed]",
      "text/plain": [
       "<Figure size 1008x432 with 1 Axes>"
      ]
     },
     "metadata": {
      "needs_background": "light"
     },
     "output_type": "display_data"
    }
   ],
   "source": [
    "df['country'].value_counts().plot(kind = 'barh', figsize = (14,6), color = '#87c442')\n",
    "plt.title('Campaign Countries');\n",
    "# Mostly Campaigns from the US"
   ]
  },
  {
   "cell_type": "code",
   "execution_count": null,
   "metadata": {},
   "outputs": [
    {
     "data": {
      "image/png": "[encoded data removed]",
      "text/plain": [
       "<Figure size 1008x432 with 1 Axes>"
      ]
     },
     "metadata": {
      "needs_background": "light"
     },
     "output_type": "display_data"
    }
   ],
   "source": [
    "df['currency'].value_counts().plot(kind = 'barh', figsize = (14,6), color = '#87c442')\n",
    "plt.title('Campaign Currency');\n",
    "# Mostly USD, corresponding to the high abundance of US American Campaigns"
   ]
  },
  {
   "cell_type": "code",
   "execution_count": 45,
   "metadata": {},
   "outputs": [
    {
     "data": {
      "image/png": "[encoded data removed]",
      "text/plain": [
       "<Figure size 1008x432 with 1 Axes>"
      ]
     },
     "metadata": {
      "needs_background": "light"
     },
     "output_type": "display_data"
    }
   ],
   "source": [
    "df['disable_communication'].value_counts().plot(kind = 'barh', figsize = (14,6), color = '#87c442')\n",
    "plt.title('State of communication'); # 0 equals failed and 1 \n",
    "# state of communication only false, can be disregarded"
   ]
  },
  {
   "cell_type": "code",
   "execution_count": 46,
   "metadata": {},
   "outputs": [
    {
     "data": {
      "image/png": "[encoded data removed]",
      "text/plain": [
       "<Figure size 1008x432 with 1 Axes>"
      ]
     },
     "metadata": {
      "needs_background": "light"
     },
     "output_type": "display_data"
    }
   ],
   "source": [
    "df['staff_pick'].value_counts().plot(kind = 'barh', figsize = (14,6), color = '#87c442')\n",
    "plt.title('State of communication'); # 0 equals failed and 1 \n",
    "# state of communication only false, can be disregarded"
   ]
  },
  {
   "cell_type": "code",
   "execution_count": 47,
   "metadata": {},
   "outputs": [
    {
     "data": {
      "image/png": "[encoded data removed]",
      "text/plain": [
       "<Figure size 1008x432 with 1 Axes>"
      ]
     },
     "metadata": {
      "needs_background": "light"
     },
     "output_type": "display_data"
    }
   ],
   "source": [
    "df['categories'].value_counts().plot(kind = 'barh', figsize = (14,6), color = '#87c442')\n",
    "plt.title('Categories'); # 0 equals failed and 1 \n",
    "# state of communication only false, can be disregarded"
   ]
  },
  {
   "cell_type": "code",
   "execution_count": 67,
   "metadata": {},
   "outputs": [
    {
     "data": {
      "image/png": "[encoded data removed]",
      "text/plain": [
       "<Figure size 402.375x360 with 1 Axes>"
      ]
     },
     "metadata": {
      "needs_background": "light"
     },
     "output_type": "display_data"
    }
   ],
   "source": [
    "sns.catplot(data = df, x = 'categories', y = 'goal', hue = 'state', kind = 'violin', palette='Set3', bw=.2);\n",
    "# goal need to be normalized"
   ]
  },
  {
   "cell_type": "code",
   "execution_count": null,
   "metadata": {},
   "outputs": [],
   "source": [
    "# Drop id (not needed anymore)\n",
    "df.drop('id', axis = 1, inplace = True)"
   ]
  },
  {
   "cell_type": "markdown",
   "metadata": {},
   "source": [
    "#### One-hot encoding"
   ]
  },
  {
   "cell_type": "code",
   "execution_count": null,
   "metadata": {},
   "outputs": [],
   "source": [
    "# One hot encode all categorical data (country, currency, staff_pick, categories, disable_communication, duration) boolean values might \n",
    "# need to be changed to 0,1 in column; includes: duration, disable_communication, staff_pick\n",
    "one_hot_featurelist = ['country', 'currency', 'disable_communication', 'staff_pick', 'categories', 'duration']\n",
    "one_hot = pd.get_dummies(df[one_hot_featurelist])\n",
    "df.drop(one_hot_featurelist, axis = 1, inplace=True)\n",
    "df = df.join(one_hot)"
   ]
  }
 ],
 "metadata": {
  "interpreter": {
   "hash": "91d869ccaeca790aa5051b91a32a203614f98fb4ba9d9ad287b8f5d4ebac826d"
  },
  "kernelspec": {
   "display_name": "Python 3.9.8 ('.venv': venv)",
   "language": "python",
   "name": "python3"
  },
  "language_info": {
   "codemirror_mode": {
    "name": "ipython",
    "version": 3
   },
   "file_extension": ".py",
   "mimetype": "text/x-python",
   "name": "python",
   "nbconvert_exporter": "python",
   "pygments_lexer": "ipython3",
   "version": "3.9.8"
  },
  "orig_nbformat": 4
 },
 "nbformat": 4,
 "nbformat_minor": 2
}
